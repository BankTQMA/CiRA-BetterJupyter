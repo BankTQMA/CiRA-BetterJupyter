{
 "cells": [
  {
   "cell_type": "markdown",
   "metadata": {
    "colab_type": "text",
    "editable": true,
    "id": "view-in-github",
    "slideshow": {
     "slide_type": ""
    },
    "tags": []
   },
   "source": [
    "<a href=\"https://colab.research.google.com/github/CiRA-AMI/cira-colab-trainer/blob/main/CiRA_ClassifTrain_Colab.ipynb\" target=\"_parent\"><img src=\"https://colab.research.google.com/assets/colab-badge.svg\" alt=\"Open In Colab\"/></a>"
   ]
  },
  {
   "cell_type": "code",
   "execution_count": null,
   "metadata": {},
   "outputs": [],
   "source": [
    "import subprocess"
   ]
  },
  {
   "cell_type": "markdown",
   "metadata": {},
   "source": [
    "Download a Python script"
   ]
  },
  {
   "cell_type": "code",
   "execution_count": null,
   "metadata": {
    "id": "ILdApS51Fgtp"
   },
   "outputs": [],
   "source": [
    "# ret = subprocess.call(['bash', '-c', 'wget -O  cira_classiftrain_jupyter.py https://raw.githubusercontent.com/CiRA-AMI/cira-colab-trainer/main/cira_classiftrain_jupyter.py'])"
   ]
  },
  {
   "cell_type": "markdown",
   "metadata": {},
   "source": [
    "Download a shell script"
   ]
  },
  {
   "cell_type": "code",
   "execution_count": null,
   "metadata": {},
   "outputs": [],
   "source": [
    "# boostrap = subprocess.call(['bash', '-c', 'wget https://raw.githubusercontent.com/CiRA-AMI/cira-colab-trainer/main/boostrap.sh'])"
   ]
  },
  {
   "cell_type": "markdown",
   "metadata": {},
   "source": [
    "Install required dependencies (apt-get)"
   ]
  },
  {
   "cell_type": "code",
   "execution_count": null,
   "metadata": {},
   "outputs": [],
   "source": [
    "library_list = \"curl\"\n",
    "\n",
    "import getpass\n",
    "import os\n",
    "\n",
    "command = \"sudo -S apt-get install %s\" %library_list # -S is required\n",
    "os.system('echo %s | %s' %(getpass.getpass(\"Root Password: \"), command)) # Echo password to shell\n",
    "\n",
    "del command"
   ]
  },
  {
   "cell_type": "markdown",
   "metadata": {},
   "source": [
    "Install rarfile (pip3) library (as root)"
   ]
  },
  {
   "cell_type": "code",
   "execution_count": null,
   "metadata": {},
   "outputs": [],
   "source": [
    "import getpass\n",
    "import os\n",
    "\n",
    "command = \"sudo -S pip install rarfile\" # -S is required\n",
    "os.system('echo %s | %s' %(getpass.getpass(\"Root Password: \"), command)) # Echo password to shell\n",
    "\n",
    "del command"
   ]
  },
  {
   "cell_type": "markdown",
   "metadata": {},
   "source": [
    "Install required dependencies (pip3)"
   ]
  },
  {
   "cell_type": "code",
   "execution_count": null,
   "metadata": {
    "scrolled": true
   },
   "outputs": [],
   "source": [
    "subprocess.run([\"pip\", \"install\", \"-r\", \"requirement.txt\"])"
   ]
  },
  {
   "cell_type": "code",
   "execution_count": null,
   "metadata": {
    "editable": true,
    "id": "4IW1RMbPVKoi",
    "scrolled": true,
    "slideshow": {
     "slide_type": ""
    },
    "tags": []
   },
   "outputs": [],
   "source": [
    "%run cira_classiftrain_jupyter.py"
   ]
  },
  {
   "cell_type": "code",
   "execution_count": null,
   "metadata": {},
   "outputs": [],
   "source": []
  }
 ],
 "metadata": {
  "accelerator": "GPU",
  "colab": {
   "include_colab_link": true,
   "provenance": []
  },
  "gpuClass": "standard",
  "kernelspec": {
   "display_name": "Python 3 (ipykernel)",
   "language": "python",
   "name": "python3"
  },
  "language_info": {
   "codemirror_mode": {
    "name": "ipython",
    "version": 3
   },
   "file_extension": ".py",
   "mimetype": "text/x-python",
   "name": "python",
   "nbconvert_exporter": "python",
   "pygments_lexer": "ipython3",
   "version": "3.10.12"
  }
 },
 "nbformat": 4,
 "nbformat_minor": 4
}
