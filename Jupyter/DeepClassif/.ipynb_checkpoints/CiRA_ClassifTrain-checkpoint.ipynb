{
 "cells": [
  {
   "cell_type": "markdown",
   "metadata": {
    "colab_type": "text",
    "editable": true,
    "id": "view-in-github",
    "slideshow": {
     "slide_type": ""
    },
    "tags": []
   },
   "source": [
    "<a href=\"https://colab.research.google.com/github/CiRA-AMI/cira-colab-trainer/blob/main/CiRA_ClassifTrain_Colab.ipynb\" target=\"_parent\"><img src=\"https://colab.research.google.com/assets/colab-badge.svg\" alt=\"Open In Colab\"/></a>"
   ]
  },
  {
   "cell_type": "code",
   "execution_count": null,
   "metadata": {},
   "outputs": [],
   "source": [
    "import subprocess"
   ]
  },
  {
   "cell_type": "code",
   "execution_count": 1,
   "metadata": {
    "id": "ILdApS51Fgtp"
   },
   "outputs": [
    {
     "name": "stderr",
     "output_type": "stream",
     "text": [
      "--2024-06-03 20:53:36--  https://raw.githubusercontent.com/CiRA-AMI/cira-colab-trainer/main/cira_classiftrain_jupyter.py\n",
      "Resolving raw.githubusercontent.com (raw.githubusercontent.com)... 2606:50c0:8002::154, 2606:50c0:8003::154, 2606:50c0:8000::154, ...\n",
      "Connecting to raw.githubusercontent.com (raw.githubusercontent.com)|2606:50c0:8002::154|:443... connected.\n",
      "HTTP request sent, awaiting response... 200 OK\n",
      "Length: 38260 (37K) [text/plain]\n",
      "Saving to: ‘cira_classiftrain_jupyter.py’\n",
      "\n",
      "     0K .......... .......... .......... .......              100%  123K=0.3s\n",
      "\n",
      "2024-06-03 20:53:38 (123 KB/s) - ‘cira_classiftrain_jupyter.py’ saved [38260/38260]\n",
      "\n"
     ]
    }
   ],
   "source": [
    "# ret = subprocess.call(['bash', '-c', 'wget -O  cira_classiftrain_jupyter.py https://raw.githubusercontent.com/CiRA-AMI/cira-colab-trainer/main/cira_classiftrain_jupyter.py'])"
   ]
  },
  {
   "cell_type": "markdown",
   "metadata": {},
   "source": [
    "Download Required File"
   ]
  },
  {
   "cell_type": "code",
   "execution_count": null,
   "metadata": {},
   "outputs": [],
   "source": [
    "boostrap = subprocess.call(['bash', '-c', 'wget https://raw.githubusercontent.com/CiRA-AMI/cira-colab-trainer/main/boostrap.sh'])"
   ]
  },
  {
   "cell_type": "markdown",
   "metadata": {},
   "source": [
    "Install required dependencies (apt-get)"
   ]
  },
  {
   "cell_type": "code",
   "execution_count": 1,
   "metadata": {},
   "outputs": [
    {
     "name": "stdin",
     "output_type": "stream",
     "text": [
      "Root Password:  ········\n"
     ]
    },
    {
     "name": "stderr",
     "output_type": "stream",
     "text": [
      "[sudo] password for therdsakchen: "
     ]
    },
    {
     "name": "stdout",
     "output_type": "stream",
     "text": [
      "Reading package lists...\n",
      "Building dependency tree...\n",
      "Reading state information...\n",
      "curl is already the newest version (7.81.0-1ubuntu1.16).\n",
      "0 upgraded, 0 newly installed, 0 to remove and 3 not upgraded.\n"
     ]
    }
   ],
   "source": [
    "library_list = \"curl\"\n",
    "\n",
    "import getpass\n",
    "import os\n",
    "\n",
    "command = \"sudo -S apt-get install %s\" %library_list # -S is required\n",
    "os.system('echo %s | %s' %(getpass.getpass(\"Root Password: \"), command)) # Echo password to shell\n",
    "\n",
    "del command"
   ]
  },
  {
   "cell_type": "markdown",
   "metadata": {},
   "source": [
    "Install required dependencies (pip3)"
   ]
  },
  {
   "cell_type": "code",
   "execution_count": 1,
   "metadata": {
    "scrolled": true
   },
   "outputs": [
    {
     "ename": "NameError",
     "evalue": "name 'subprocess' is not defined",
     "output_type": "error",
     "traceback": [
      "\u001b[1;31m---------------------------------------------------------------------------\u001b[0m",
      "\u001b[1;31mNameError\u001b[0m                                 Traceback (most recent call last)",
      "Cell \u001b[1;32mIn[1], line 1\u001b[0m\n\u001b[1;32m----> 1\u001b[0m \u001b[43msubprocess\u001b[49m\u001b[38;5;241m.\u001b[39mrun([\u001b[38;5;124m\"\u001b[39m\u001b[38;5;124mpip\u001b[39m\u001b[38;5;124m\"\u001b[39m, \u001b[38;5;124m\"\u001b[39m\u001b[38;5;124minstall\u001b[39m\u001b[38;5;124m\"\u001b[39m, \u001b[38;5;124m\"\u001b[39m\u001b[38;5;124m-r\u001b[39m\u001b[38;5;124m\"\u001b[39m, \u001b[38;5;124m\"\u001b[39m\u001b[38;5;124mrequirement.txt\u001b[39m\u001b[38;5;124m\"\u001b[39m])\n",
      "\u001b[1;31mNameError\u001b[0m: name 'subprocess' is not defined"
     ]
    }
   ],
   "source": [
    "subprocess.run([\"pip\", \"install\", \"-r\", \"requirement.txt\"])"
   ]
  },
  {
   "cell_type": "code",
   "execution_count": 4,
   "metadata": {
    "editable": true,
    "id": "4IW1RMbPVKoi",
    "scrolled": true,
    "slideshow": {
     "slide_type": ""
    },
    "tags": []
   },
   "outputs": [
    {
     "name": "stderr",
     "output_type": "stream",
     "text": [
      "bash: line 1: curl: command not found\n"
     ]
    },
    {
     "name": "stdout",
     "output_type": "stream",
     "text": [
      "Defaulting to user installation because normal site-packages is not writeable\n",
      "Requirement already satisfied: ipywidgets in /home/therdsakchen/.local/lib/python3.10/site-packages (8.1.3)\n",
      "Collecting ipyfilechooser\n",
      "  Downloading ipyfilechooser-0.6.0-py3-none-any.whl (11 kB)\n",
      "Collecting xattr\n",
      "  Downloading xattr-1.1.0-cp310-cp310-manylinux_2_5_x86_64.manylinux1_x86_64.manylinux_2_17_x86_64.manylinux2014_x86_64.whl (38 kB)\n",
      "Requirement already satisfied: widgetsnbextension~=4.0.11 in /home/therdsakchen/.local/lib/python3.10/site-packages (from ipywidgets) (4.0.11)\n",
      "Requirement already satisfied: comm>=0.1.3 in /home/therdsakchen/.local/lib/python3.10/site-packages (from ipywidgets) (0.2.2)\n",
      "Requirement already satisfied: traitlets>=4.3.1 in /home/therdsakchen/.local/lib/python3.10/site-packages (from ipywidgets) (5.14.3)\n",
      "Requirement already satisfied: jupyterlab-widgets~=3.0.11 in /home/therdsakchen/.local/lib/python3.10/site-packages (from ipywidgets) (3.0.11)\n",
      "Requirement already satisfied: ipython>=6.1.0 in /home/therdsakchen/.local/lib/python3.10/site-packages (from ipywidgets) (8.25.0)\n",
      "Requirement already satisfied: cffi>=1.16.0 in /home/therdsakchen/.local/lib/python3.10/site-packages (from xattr) (1.16.0)\n",
      "Requirement already satisfied: pycparser in /home/therdsakchen/.local/lib/python3.10/site-packages (from cffi>=1.16.0->xattr) (2.22)\n",
      "Requirement already satisfied: typing-extensions>=4.6 in /home/therdsakchen/.local/lib/python3.10/site-packages (from ipython>=6.1.0->ipywidgets) (4.12.1)\n",
      "Requirement already satisfied: pygments>=2.4.0 in /home/therdsakchen/.local/lib/python3.10/site-packages (from ipython>=6.1.0->ipywidgets) (2.18.0)\n",
      "Requirement already satisfied: matplotlib-inline in /home/therdsakchen/.local/lib/python3.10/site-packages (from ipython>=6.1.0->ipywidgets) (0.1.7)\n",
      "Requirement already satisfied: decorator in /home/therdsakchen/.local/lib/python3.10/site-packages (from ipython>=6.1.0->ipywidgets) (5.1.1)\n",
      "Requirement already satisfied: exceptiongroup in /home/therdsakchen/.local/lib/python3.10/site-packages (from ipython>=6.1.0->ipywidgets) (1.2.1)\n",
      "Requirement already satisfied: stack-data in /home/therdsakchen/.local/lib/python3.10/site-packages (from ipython>=6.1.0->ipywidgets) (0.6.3)\n",
      "Requirement already satisfied: pexpect>4.3 in /usr/lib/python3/dist-packages (from ipython>=6.1.0->ipywidgets) (4.8.0)\n",
      "Requirement already satisfied: prompt-toolkit<3.1.0,>=3.0.41 in /home/therdsakchen/.local/lib/python3.10/site-packages (from ipython>=6.1.0->ipywidgets) (3.0.45)\n",
      "Requirement already satisfied: jedi>=0.16 in /home/therdsakchen/.local/lib/python3.10/site-packages (from ipython>=6.1.0->ipywidgets) (0.19.1)\n",
      "Requirement already satisfied: parso<0.9.0,>=0.8.3 in /home/therdsakchen/.local/lib/python3.10/site-packages (from jedi>=0.16->ipython>=6.1.0->ipywidgets) (0.8.4)\n",
      "Requirement already satisfied: wcwidth in /home/therdsakchen/.local/lib/python3.10/site-packages (from prompt-toolkit<3.1.0,>=3.0.41->ipython>=6.1.0->ipywidgets) (0.2.13)\n",
      "Requirement already satisfied: pure-eval in /home/therdsakchen/.local/lib/python3.10/site-packages (from stack-data->ipython>=6.1.0->ipywidgets) (0.2.2)\n",
      "Requirement already satisfied: asttokens>=2.1.0 in /home/therdsakchen/.local/lib/python3.10/site-packages (from stack-data->ipython>=6.1.0->ipywidgets) (2.4.1)\n",
      "Requirement already satisfied: executing>=1.2.0 in /home/therdsakchen/.local/lib/python3.10/site-packages (from stack-data->ipython>=6.1.0->ipywidgets) (2.0.1)\n",
      "Requirement already satisfied: six>=1.12.0 in /usr/lib/python3/dist-packages (from asttokens>=2.1.0->stack-data->ipython>=6.1.0->ipywidgets) (1.16.0)\n",
      "Installing collected packages: xattr, ipyfilechooser\n",
      "Successfully installed ipyfilechooser-0.6.0 xattr-1.1.0\n",
      "CiRA Colab Trainer install complete\n"
     ]
    },
    {
     "name": "stderr",
     "output_type": "stream",
     "text": [
      "bash: line 1: /opt/ros/melodic/setup.bash: No such file or directory\n"
     ]
    },
    {
     "ename": "ModuleNotFoundError",
     "evalue": "No module named 'rarfile'",
     "output_type": "error",
     "traceback": [
      "\u001b[0;31m---------------------------------------------------------------------------\u001b[0m",
      "\u001b[0;31mModuleNotFoundError\u001b[0m                       Traceback (most recent call last)",
      "File \u001b[0;32m~/Desktop/CiRA_Jupyter/VSCode/Jupyter/DeepClassif/cira_classiftrain_jupyter.py:38\u001b[0m\n\u001b[1;32m     30\u001b[0m subprocess\u001b[38;5;241m.\u001b[39mPopen([\u001b[38;5;124m'\u001b[39m\u001b[38;5;124mbash\u001b[39m\u001b[38;5;124m'\u001b[39m, \u001b[38;5;124m'\u001b[39m\u001b[38;5;124m-c\u001b[39m\u001b[38;5;124m'\u001b[39m, \u001b[38;5;124m'\u001b[39m\u001b[38;5;124msource /opt/ros/melodic/setup.bash && source /root/install/setup.bash && export LD_LIBRARY_PATH=$LD_LIBRARY_PATH:/usr/local/lib && /root/install/lib/deepclassif_server/deepclassif_server_run --platform offscreen\u001b[39m\u001b[38;5;124m'\u001b[39m])\n\u001b[1;32m     33\u001b[0m \u001b[38;5;66;03m# In[32]:\u001b[39;00m\n\u001b[1;32m     34\u001b[0m \n\u001b[1;32m     35\u001b[0m \n\u001b[1;32m     36\u001b[0m \u001b[38;5;66;03m#@title Header\u001b[39;00m\n\u001b[0;32m---> 38\u001b[0m \u001b[38;5;28;01mimport\u001b[39;00m \u001b[38;5;21;01mjson\u001b[39;00m\u001b[38;5;241m,\u001b[39m \u001b[38;5;21;01mtime\u001b[39;00m\u001b[38;5;241m,\u001b[39m \u001b[38;5;21;01mos\u001b[39;00m\u001b[38;5;241m,\u001b[39m \u001b[38;5;21;01msubprocess\u001b[39;00m\u001b[38;5;241m,\u001b[39m \u001b[38;5;21;01mshutil\u001b[39;00m\u001b[38;5;241m,\u001b[39m \u001b[38;5;21;01mzipfile\u001b[39;00m\u001b[38;5;241m,\u001b[39m \u001b[38;5;21;01mrarfile\u001b[39;00m\u001b[38;5;241m,\u001b[39m \u001b[38;5;21;01mpathlib\u001b[39;00m\u001b[38;5;241m,\u001b[39m \u001b[38;5;21;01mdatetime\u001b[39;00m\u001b[38;5;241m,\u001b[39m \u001b[38;5;21;01mbase64\u001b[39;00m\n\u001b[1;32m     39\u001b[0m \u001b[38;5;28;01mfrom\u001b[39;00m \u001b[38;5;21;01mthreading\u001b[39;00m \u001b[38;5;28;01mimport\u001b[39;00m Timer\n\u001b[1;32m     40\u001b[0m \u001b[38;5;28;01mfrom\u001b[39;00m \u001b[38;5;21;01mipywidgets\u001b[39;00m\u001b[38;5;21;01m.\u001b[39;00m\u001b[38;5;21;01mwidgets\u001b[39;00m\u001b[38;5;21;01m.\u001b[39;00m\u001b[38;5;21;01mwidget_string\u001b[39;00m \u001b[38;5;28;01mimport\u001b[39;00m Label, Text\n",
      "\u001b[0;31mModuleNotFoundError\u001b[0m: No module named 'rarfile'"
     ]
    }
   ],
   "source": [
    "%run cira_classiftrain_jupyter.py"
   ]
  },
  {
   "cell_type": "code",
   "execution_count": null,
   "metadata": {},
   "outputs": [],
   "source": []
  }
 ],
 "metadata": {
  "accelerator": "GPU",
  "colab": {
   "include_colab_link": true,
   "provenance": []
  },
  "gpuClass": "standard",
  "kernelspec": {
   "display_name": "Python 3 (ipykernel)",
   "language": "python",
   "name": "python3"
  },
  "language_info": {
   "codemirror_mode": {
    "name": "ipython",
    "version": 3
   },
   "file_extension": ".py",
   "mimetype": "text/x-python",
   "name": "python",
   "nbconvert_exporter": "python",
   "pygments_lexer": "ipython3",
   "version": "3.10.12"
  }
 },
 "nbformat": 4,
 "nbformat_minor": 4
}
