{
 "cells": [
  {
   "cell_type": "markdown",
   "metadata": {
    "colab_type": "text",
    "editable": true,
    "id": "view-in-github",
    "slideshow": {
     "slide_type": ""
    },
    "tags": []
   },
   "source": [
    "<a href=\"https://colab.research.google.com/github/CiRA-AMI/cira-colab-trainer/blob/main/CiRA_ClassifTrain_Colab.ipynb\" target=\"_parent\"><img src=\"https://colab.research.google.com/assets/colab-badge.svg\" alt=\"Open In Colab\"/></a>"
   ]
  },
  {
   "cell_type": "code",
   "execution_count": 1,
   "metadata": {},
   "outputs": [],
   "source": [
    "import subprocess"
   ]
  },
  {
   "cell_type": "markdown",
   "metadata": {},
   "source": [
    "Download a Python script"
   ]
  },
  {
   "cell_type": "code",
   "execution_count": 2,
   "metadata": {
    "id": "ILdApS51Fgtp"
   },
   "outputs": [],
   "source": [
    "# ret = subprocess.call(['bash', '-c', 'wget -O  cira_classiftrain_jupyter.py https://raw.githubusercontent.com/CiRA-AMI/cira-colab-trainer/main/cira_classiftrain_jupyter.py'])"
   ]
  },
  {
   "cell_type": "markdown",
   "metadata": {},
   "source": [
    "Download a shell script"
   ]
  },
  {
   "cell_type": "code",
   "execution_count": 3,
   "metadata": {},
   "outputs": [],
   "source": [
    "# boostrap = subprocess.call(['bash', '-c', 'wget https://raw.githubusercontent.com/CiRA-AMI/cira-colab-trainer/main/boostrap.sh'])"
   ]
  },
  {
   "cell_type": "markdown",
   "metadata": {},
   "source": [
    "Install required dependencies (apt-get)"
   ]
  },
  {
   "cell_type": "code",
   "execution_count": 4,
   "metadata": {},
   "outputs": [
    {
     "name": "stdin",
     "output_type": "stream",
     "text": [
      "Root Password:  ········\n"
     ]
    },
    {
     "name": "stderr",
     "output_type": "stream",
     "text": [
      "[sudo] password for therdsakchen: "
     ]
    },
    {
     "name": "stdout",
     "output_type": "stream",
     "text": [
      "Reading package lists...\n",
      "Building dependency tree...\n",
      "Reading state information...\n",
      "curl is already the newest version (7.81.0-1ubuntu1.16).\n",
      "0 upgraded, 0 newly installed, 0 to remove and 20 not upgraded.\n"
     ]
    }
   ],
   "source": [
    "library_list = \"curl\"\n",
    "\n",
    "import getpass\n",
    "import os\n",
    "\n",
    "command = \"sudo -S apt-get install %s\" %library_list # -S is required\n",
    "os.system('echo %s | %s' %(getpass.getpass(\"Root Password: \"), command)) # Echo password to shell\n",
    "\n",
    "del command"
   ]
  },
  {
   "cell_type": "markdown",
   "metadata": {},
   "source": [
    "Install rarfile (pip3) library (as root)"
   ]
  },
  {
   "cell_type": "code",
   "execution_count": 5,
   "metadata": {},
   "outputs": [
    {
     "name": "stdin",
     "output_type": "stream",
     "text": [
      "Root Password:  ········\n"
     ]
    },
    {
     "name": "stderr",
     "output_type": "stream",
     "text": [
      "[sudo] password for therdsakchen: "
     ]
    },
    {
     "name": "stdout",
     "output_type": "stream",
     "text": [
      "Requirement already satisfied: rarfile in /usr/local/lib/python3.10/dist-packages (4.2)\n"
     ]
    },
    {
     "name": "stderr",
     "output_type": "stream",
     "text": [
      "WARNING: Running pip as the 'root' user can result in broken permissions and conflicting behaviour with the system package manager. It is recommended to use a virtual environment instead: https://pip.pypa.io/warnings/venv\n"
     ]
    }
   ],
   "source": [
    "import getpass\n",
    "import os\n",
    "\n",
    "command = \"sudo -S pip install rarfile\" # -S is required\n",
    "os.system('echo %s | %s' %(getpass.getpass(\"Root Password: \"), command)) # Echo password to shell\n",
    "\n",
    "del command"
   ]
  },
  {
   "cell_type": "markdown",
   "metadata": {},
   "source": [
    "Install required dependencies (pip3)"
   ]
  },
  {
   "cell_type": "code",
   "execution_count": 6,
   "metadata": {
    "scrolled": true
   },
   "outputs": [
    {
     "name": "stdout",
     "output_type": "stream",
     "text": [
      "Defaulting to user installation because normal site-packages is not writeable\n",
      "Collecting zip\n",
      "  Using cached zip-0.0.2.tar.gz (3.0 kB)\n",
      "  Preparing metadata (setup.py): started\n",
      "  Preparing metadata (setup.py): finished with status 'done'\n",
      "Requirement already satisfied: unzip in /home/therdsakchen/.local/lib/python3.10/site-packages (from -r requirement.txt (line 2)) (1.0.0)\n",
      "Requirement already satisfied: rarfile in /home/therdsakchen/.local/lib/python3.10/site-packages (from -r requirement.txt (line 3)) (4.2)\n",
      "Collecting Flask-Admin>=1.0.4\n",
      "  Using cached Flask_Admin-1.6.1-py3-none-any.whl (7.5 MB)\n",
      "Collecting Flask-Bootstrap>=2.2.2-1\n",
      "  Using cached Flask-Bootstrap-3.3.7.1.tar.gz (456 kB)\n",
      "  Preparing metadata (setup.py): started\n",
      "  Preparing metadata (setup.py): finished with status 'done'\n",
      "Collecting Flask-Cache>=0.10.1\n",
      "  Using cached Flask-Cache-0.13.1.tar.gz (45 kB)\n",
      "  Preparing metadata (setup.py): started\n",
      "  Preparing metadata (setup.py): finished with status 'done'\n",
      "Collecting Flask-FlatPages>=0.3\n",
      "  Using cached Flask_FlatPages-0.8.2-py3-none-any.whl (10 kB)\n",
      "Collecting Flask-Gravatar>=0.2.4\n",
      "  Using cached Flask_Gravatar-0.5.0-py2.py3-none-any.whl (7.5 kB)\n",
      "Collecting Flask-Login>=0.1.3\n",
      "  Using cached Flask_Login-0.6.3-py3-none-any.whl (17 kB)\n",
      "Collecting Flask-Mail>=0.7.4\n",
      "  Using cached flask_mail-0.10.0-py3-none-any.whl (8.5 kB)\n",
      "Collecting Flask-PyMongo>=0.2.1\n",
      "  Using cached Flask_PyMongo-2.3.0-py2.py3-none-any.whl (12 kB)\n",
      "Collecting Flask-Restless>=0.9.1\n",
      "  Using cached Flask-Restless-0.17.0.tar.gz (42 kB)\n",
      "  Preparing metadata (setup.py): started\n",
      "  Preparing metadata (setup.py): finished with status 'done'\n",
      "Collecting Flask-SQLAlchemy>=0.16\n",
      "  Using cached flask_sqlalchemy-3.1.1-py3-none-any.whl (25 kB)\n",
      "Collecting Flask-Themes>=0.1.3\n",
      "  Using cached Flask-Themes-0.1.3.tar.gz (9.7 kB)\n",
      "  Preparing metadata (setup.py): started\n",
      "  Preparing metadata (setup.py): finished with status 'done'\n",
      "Collecting Flask-Uploads>=0.1.3\n",
      "  Using cached Flask-Uploads-0.2.1.tar.gz (7.6 kB)\n",
      "  Preparing metadata (setup.py): started\n",
      "  Preparing metadata (setup.py): finished with status 'done'\n",
      "Collecting Flask-WTF>=0.8.2\n",
      "  Using cached flask_wtf-1.2.1-py3-none-any.whl (12 kB)\n",
      "Collecting Flask>=0.9\n",
      "  Using cached flask-3.0.3-py3-none-any.whl (101 kB)\n",
      "Requirement already satisfied: Jinja2>=2.6 in /home/therdsakchen/.local/lib/python3.10/site-packages (from zip->-r requirement.txt (line 1)) (3.1.4)\n",
      "Collecting Markdown>=2.2.1\n",
      "  Using cached Markdown-3.6-py3-none-any.whl (105 kB)\n",
      "Requirement already satisfied: PyYAML>=3.11 in /usr/lib/python3/dist-packages (from zip->-r requirement.txt (line 1)) (5.4.1)\n",
      "Collecting SQLAlchemy>=0.8.0b2\n",
      "  Using cached SQLAlchemy-2.0.30-cp310-cp310-manylinux_2_17_x86_64.manylinux2014_x86_64.whl (3.1 MB)\n",
      "Collecting Sphinx>=1.3.1\n",
      "  Using cached sphinx-7.3.7-py3-none-any.whl (3.3 MB)\n",
      "Collecting WTForms>=1.0.3\n",
      "  Using cached wtforms-3.1.2-py3-none-any.whl (145 kB)\n",
      "Collecting Werkzeug>=0.8.3\n",
      "  Using cached werkzeug-3.0.3-py3-none-any.whl (227 kB)\n",
      "Collecting argparse>=1.2.1\n",
      "  Using cached argparse-1.4.0-py2.py3-none-any.whl (23 kB)\n",
      "Requirement already satisfied: blinker>=1.2 in /usr/lib/python3/dist-packages (from zip->-r requirement.txt (line 1)) (1.4)\n",
      "Collecting bumpversion>=0.5.3\n",
      "  Using cached bumpversion-0.6.0-py2.py3-none-any.whl (8.4 kB)\n",
      "Requirement already satisfied: click>=6.3 in /usr/lib/python3/dist-packages (from zip->-r requirement.txt (line 1)) (8.0.3)\n",
      "Requirement already satisfied: colorama>=0.3.7 in /usr/lib/python3/dist-packages (from zip->-r requirement.txt (line 1)) (0.4.4)\n",
      "Collecting coverage>=4.0\n",
      "  Using cached coverage-7.5.3-cp310-cp310-manylinux_2_5_x86_64.manylinux1_x86_64.manylinux_2_17_x86_64.manylinux2014_x86_64.whl (231 kB)\n",
      "Requirement already satisfied: cryptography>=1.0.1 in /usr/lib/python3/dist-packages (from zip->-r requirement.txt (line 1)) (3.4.8)\n",
      "Collecting flake8>=2.4.1\n",
      "  Using cached flake8-7.0.0-py2.py3-none-any.whl (57 kB)\n",
      "Collecting frozen-flask\n",
      "  Using cached frozen_flask-1.0.2-py3-none-any.whl (10 kB)\n",
      "Collecting networkx>=1.11\n",
      "  Using cached networkx-3.3-py3-none-any.whl (1.7 MB)\n",
      "Collecting pymongo>=2.5.1\n",
      "  Using cached pymongo-4.7.3-cp310-cp310-manylinux_2_17_x86_64.manylinux2014_x86_64.whl (669 kB)\n",
      "Collecting pytest>=2.8.3\n",
      "  Using cached pytest-8.2.2-py3-none-any.whl (339 kB)\n",
      "Requirement already satisfied: python-dateutil>=1.5 in /home/therdsakchen/.local/lib/python3.10/site-packages (from zip->-r requirement.txt (line 1)) (2.9.0.post0)\n",
      "Requirement already satisfied: six>=1.10.0 in /usr/lib/python3/dist-packages (from zip->-r requirement.txt (line 1)) (1.16.0)\n",
      "Collecting tox>=2.1.1\n",
      "  Using cached tox-4.15.1-py3-none-any.whl (156 kB)\n",
      "Collecting watchdog>=0.8.3\n",
      "  Using cached watchdog-4.0.1-py3-none-manylinux2014_x86_64.whl (83 kB)\n",
      "Requirement already satisfied: wheel>=0.23.0 in /usr/lib/python3/dist-packages (from zip->-r requirement.txt (line 1)) (0.37.1)\n",
      "Collecting wsgiref>=0.1.2\n",
      "  Using cached wsgiref-0.1.2.zip (37 kB)\n",
      "  Preparing metadata (setup.py): started\n",
      "  Preparing metadata (setup.py): finished with status 'error'\n"
     ]
    },
    {
     "name": "stderr",
     "output_type": "stream",
     "text": [
      "  error: subprocess-exited-with-error\n",
      "  \n",
      "  × python setup.py egg_info did not run successfully.\n",
      "  │ exit code: 1\n",
      "  ╰─> [9 lines of output]\n",
      "      Traceback (most recent call last):\n",
      "        File \"<string>\", line 2, in <module>\n",
      "        File \"<pip-setuptools-caller>\", line 34, in <module>\n",
      "        File \"/tmp/pip-install-_beymabb/wsgiref_dd9162f6c7554d3bbfa3d74d3eab8b98/setup.py\", line 5, in <module>\n",
      "          import ez_setup\n",
      "        File \"/tmp/pip-install-_beymabb/wsgiref_dd9162f6c7554d3bbfa3d74d3eab8b98/ez_setup/__init__.py\", line 170\n",
      "          print \"Setuptools version\",version,\"or greater has been installed.\"\n",
      "          ^^^^^^^^^^^^^^^^^^^^^^^^^^^^^^^^^^^^^^^^^^^^^^^^^^^^^^^^^^^^^^^^^^^\n",
      "      SyntaxError: Missing parentheses in call to 'print'. Did you mean print(...)?\n",
      "      [end of output]\n",
      "  \n",
      "  note: This error originates from a subprocess, and is likely not a problem with pip.\n",
      "error: metadata-generation-failed\n",
      "\n",
      "× Encountered error while generating package metadata.\n",
      "╰─> See above for output.\n",
      "\n",
      "note: This is an issue with the package mentioned above, not pip.\n",
      "hint: See above for details.\n"
     ]
    },
    {
     "data": {
      "text/plain": [
       "CompletedProcess(args=['pip', 'install', '-r', 'requirement.txt'], returncode=1)"
      ]
     },
     "execution_count": 6,
     "metadata": {},
     "output_type": "execute_result"
    }
   ],
   "source": [
    "subprocess.run([\"pip\", \"install\", \"-r\", \"requirement.txt\"])"
   ]
  },
  {
   "cell_type": "code",
   "execution_count": 7,
   "metadata": {
    "editable": true,
    "id": "4IW1RMbPVKoi",
    "scrolled": true,
    "slideshow": {
     "slide_type": ""
    },
    "tags": []
   },
   "outputs": [
    {
     "name": "stdin",
     "output_type": "stream",
     "text": [
      "Root Password (Run \"boostrap.sh\" shell script):  ········\n"
     ]
    },
    {
     "name": "stderr",
     "output_type": "stream",
     "text": [
      "[sudo] password for therdsakchen: ./boostrap.sh: line 14: cd: cira-colab-trainer-main: No such file or directory\n",
      "unzip:  cannot find or open install.zip, install.zip.zip or install.zip.ZIP.\n",
      "rm: cannot remove 'install': No such file or directory\n",
      "unzip:  cannot find or open d.zip, d.zip.zip or d.zip.ZIP.\n",
      "\n",
      "WARNING: apt does not have a stable CLI interface. Use with caution in scripts.\n",
      "\n"
     ]
    },
    {
     "name": "stdout",
     "output_type": "stream",
     "text": [
      "Hit:1 http://th.archive.ubuntu.com/ubuntu jammy InRelease\n",
      "Hit:2 http://th.archive.ubuntu.com/ubuntu jammy-updates InRelease\n",
      "Hit:3 http://th.archive.ubuntu.com/ubuntu jammy-backports InRelease\n",
      "Hit:4 http://security.ubuntu.com/ubuntu jammy-security InRelease\n",
      "Reading package lists...\n",
      "Building dependency tree...\n",
      "Reading state information...\n",
      "20 packages can be upgraded. Run 'apt list --upgradable' to see them.\n",
      "Reading package lists...\n",
      "Building dependency tree..."
     ]
    },
    {
     "name": "stderr",
     "output_type": "stream",
     "text": [
      "\n",
      "WARNING: apt does not have a stable CLI interface. Use with caution in scripts.\n",
      "\n"
     ]
    },
    {
     "name": "stdout",
     "output_type": "stream",
     "text": [
      "\n",
      "Reading state information...\n",
      "ros-base is already the newest version (1.16).\n",
      "0 upgraded, 0 newly installed, 0 to remove and 20 not upgraded.\n"
     ]
    },
    {
     "name": "stderr",
     "output_type": "stream",
     "text": [
      "unzip:  cannot find or open opencv_install.zip, opencv_install.zip.zip or opencv_install.zip.ZIP.\n",
      "cp: cannot stat 'install/*': No such file or directory\n",
      "rm: cannot remove 'install': No such file or directory\n",
      "\n",
      "WARNING: apt does not have a stable CLI interface. Use with caution in scripts.\n",
      "\n"
     ]
    },
    {
     "name": "stdout",
     "output_type": "stream",
     "text": [
      "Reading package lists...\n",
      "Building dependency tree...\n",
      "Reading state information...\n"
     ]
    },
    {
     "name": "stderr",
     "output_type": "stream",
     "text": [
      "E: Unable to locate package cuda-libraries-11-8\n",
      "E: Unable to locate package libnpp-11-8\n",
      "E: Unable to locate package cuda-nvtx-11-8\n",
      "E: Unable to locate package libcusparse-11-8\n",
      "E: Unable to locate package libcublas-11-8\n",
      "E: Unable to locate package libnccl2\n",
      "E: Unable to locate package libnccl-dev\n"
     ]
    },
    {
     "name": "stdout",
     "output_type": "stream",
     "text": [
      "Reading package lists...\n",
      "Building dependency tree...\n",
      "Reading state information...\n",
      "0 upgraded, 0 newly installed, 0 to remove and 20 not upgraded.\n",
      "Reading package lists...\n",
      "Building dependency tree..."
     ]
    },
    {
     "name": "stderr",
     "output_type": "stream",
     "text": [
      "\n",
      "WARNING: apt does not have a stable CLI interface. Use with caution in scripts.\n",
      "\n"
     ]
    },
    {
     "name": "stdout",
     "output_type": "stream",
     "text": [
      "\n",
      "Reading state information...\n"
     ]
    },
    {
     "name": "stderr",
     "output_type": "stream",
     "text": [
      "E: Unable to locate package libcudnn8\n",
      "E: Unable to locate package libcudnn8\n",
      "E: No packages found\n",
      "\n",
      "WARNING: apt does not have a stable CLI interface. Use with caution in scripts.\n",
      "\n"
     ]
    },
    {
     "name": "stdout",
     "output_type": "stream",
     "text": [
      "Reading package lists...\n",
      "Building dependency tree...\n",
      "Reading state information...\n",
      "libqt5network5 is already the newest version (5.15.3+dfsg-2ubuntu0.2).\n",
      "libqt5opengl5 is already the newest version (5.15.3+dfsg-2ubuntu0.2).\n",
      "libqt5widgets5 is already the newest version (5.15.3+dfsg-2ubuntu0.2).\n",
      "0 upgraded, 0 newly installed, 0 to remove and 20 not upgraded.\n",
      "\u001b[1;32m******  ********\u001b[1m\n",
      "Defaulting to user installation because normal site-packages is not writeable\n",
      "Requirement already satisfied: ipywidgets in /home/therdsakchen/.local/lib/python3.10/site-packages (8.1.3)\n",
      "Requirement already satisfied: ipyfilechooser in /home/therdsakchen/.local/lib/python3.10/site-packages (0.6.0)\n",
      "Requirement already satisfied: xattr in /home/therdsakchen/.local/lib/python3.10/site-packages (1.1.0)\n",
      "Requirement already satisfied: traitlets>=4.3.1 in /home/therdsakchen/.local/lib/python3.10/site-packages (from ipywidgets) (5.14.3)\n",
      "Requirement already satisfied: jupyterlab-widgets~=3.0.11 in /home/therdsakchen/.local/lib/python3.10/site-packages (from ipywidgets) (3.0.11)\n",
      "Requirement already satisfied: comm>=0.1.3 in /home/therdsakchen/.local/lib/python3.10/site-packages (from ipywidgets) (0.2.2)\n",
      "Requirement already satisfied: widgetsnbextension~=4.0.11 in /home/therdsakchen/.local/lib/python3.10/site-packages (from ipywidgets) (4.0.11)\n",
      "Requirement already satisfied: ipython>=6.1.0 in /home/therdsakchen/.local/lib/python3.10/site-packages (from ipywidgets) (8.25.0)\n",
      "Requirement already satisfied: cffi>=1.16.0 in /home/therdsakchen/.local/lib/python3.10/site-packages (from xattr) (1.16.0)\n",
      "Requirement already satisfied: pycparser in /home/therdsakchen/.local/lib/python3.10/site-packages (from cffi>=1.16.0->xattr) (2.22)\n",
      "Requirement already satisfied: pexpect>4.3 in /usr/lib/python3/dist-packages (from ipython>=6.1.0->ipywidgets) (4.8.0)\n",
      "Requirement already satisfied: stack-data in /home/therdsakchen/.local/lib/python3.10/site-packages (from ipython>=6.1.0->ipywidgets) (0.6.3)\n",
      "Requirement already satisfied: decorator in /home/therdsakchen/.local/lib/python3.10/site-packages (from ipython>=6.1.0->ipywidgets) (5.1.1)\n",
      "Requirement already satisfied: exceptiongroup in /home/therdsakchen/.local/lib/python3.10/site-packages (from ipython>=6.1.0->ipywidgets) (1.2.1)\n",
      "Requirement already satisfied: prompt-toolkit<3.1.0,>=3.0.41 in /home/therdsakchen/.local/lib/python3.10/site-packages (from ipython>=6.1.0->ipywidgets) (3.0.45)\n",
      "Requirement already satisfied: matplotlib-inline in /home/therdsakchen/.local/lib/python3.10/site-packages (from ipython>=6.1.0->ipywidgets) (0.1.7)\n",
      "Requirement already satisfied: jedi>=0.16 in /home/therdsakchen/.local/lib/python3.10/site-packages (from ipython>=6.1.0->ipywidgets) (0.19.1)\n",
      "Requirement already satisfied: typing-extensions>=4.6 in /home/therdsakchen/.local/lib/python3.10/site-packages (from ipython>=6.1.0->ipywidgets) (4.12.1)\n",
      "Requirement already satisfied: pygments>=2.4.0 in /home/therdsakchen/.local/lib/python3.10/site-packages (from ipython>=6.1.0->ipywidgets) (2.18.0)\n",
      "Requirement already satisfied: parso<0.9.0,>=0.8.3 in /home/therdsakchen/.local/lib/python3.10/site-packages (from jedi>=0.16->ipython>=6.1.0->ipywidgets) (0.8.4)\n",
      "Requirement already satisfied: wcwidth in /home/therdsakchen/.local/lib/python3.10/site-packages (from prompt-toolkit<3.1.0,>=3.0.41->ipython>=6.1.0->ipywidgets) (0.2.13)\n",
      "Requirement already satisfied: pure-eval in /home/therdsakchen/.local/lib/python3.10/site-packages (from stack-data->ipython>=6.1.0->ipywidgets) (0.2.2)\n",
      "Requirement already satisfied: asttokens>=2.1.0 in /home/therdsakchen/.local/lib/python3.10/site-packages (from stack-data->ipython>=6.1.0->ipywidgets) (2.4.1)\n",
      "Requirement already satisfied: executing>=1.2.0 in /home/therdsakchen/.local/lib/python3.10/site-packages (from stack-data->ipython>=6.1.0->ipywidgets) (2.0.1)\n",
      "Requirement already satisfied: six>=1.12.0 in /usr/lib/python3/dist-packages (from asttokens>=2.1.0->stack-data->ipython>=6.1.0->ipywidgets) (1.16.0)\n"
     ]
    },
    {
     "name": "stdin",
     "output_type": "stream",
     "text": [
      "Root Password (Remove \"cira-colab-trainer\" folder with permission):  ········\n"
     ]
    },
    {
     "name": "stderr",
     "output_type": "stream",
     "text": [
      "[sudo] password for therdsakchen: "
     ]
    },
    {
     "name": "stdout",
     "output_type": "stream",
     "text": [
      "CiRA Colab Trainer install complete\n"
     ]
    },
    {
     "name": "stderr",
     "output_type": "stream",
     "text": [
      "bash: line 1: /opt/ros/melodic/setup.bash: No such file or directory\n"
     ]
    },
    {
     "ename": "InvalidPathError",
     "evalue": "/content does not exist",
     "output_type": "error",
     "traceback": [
      "\u001b[0;31m---------------------------------------------------------------------------\u001b[0m",
      "\u001b[0;31mInvalidPathError\u001b[0m                          Traceback (most recent call last)",
      "File \u001b[0;32m~/Desktop/CiRA-BetterJupyter/Jupyter/DeepClassif/cira_classiftrain_jupyter.py:135\u001b[0m\n\u001b[1;32m    128\u001b[0m             \u001b[38;5;28mself\u001b[39m\u001b[38;5;241m.\u001b[39mfunction(\u001b[38;5;241m*\u001b[39m\u001b[38;5;28mself\u001b[39m\u001b[38;5;241m.\u001b[39margs, \u001b[38;5;241m*\u001b[39m\u001b[38;5;241m*\u001b[39m\u001b[38;5;28mself\u001b[39m\u001b[38;5;241m.\u001b[39mkwargs)\n\u001b[1;32m    131\u001b[0m \u001b[38;5;66;03m# In[33]:\u001b[39;00m\n\u001b[1;32m    132\u001b[0m \n\u001b[1;32m    133\u001b[0m \n\u001b[1;32m    134\u001b[0m \u001b[38;5;66;03m#@title Dataset\u001b[39;00m\n\u001b[0;32m--> 135\u001b[0m fcImgFolder \u001b[38;5;241m=\u001b[39m \u001b[43mFileChooser\u001b[49m\u001b[43m(\u001b[49m\u001b[38;5;124;43m'\u001b[39;49m\u001b[38;5;124;43m/content\u001b[39;49m\u001b[38;5;124;43m'\u001b[39;49m\u001b[43m)\u001b[49m\n\u001b[1;32m    136\u001b[0m fcImgFolder\u001b[38;5;241m.\u001b[39mtitle \u001b[38;5;241m=\u001b[39m \u001b[38;5;124m'\u001b[39m\u001b[38;5;124m<b>Image Folder:</b>\u001b[39m\u001b[38;5;124m'\u001b[39m\n\u001b[1;32m    137\u001b[0m fcImgFolder\u001b[38;5;241m.\u001b[39mshow_only_dirs \u001b[38;5;241m=\u001b[39m \u001b[38;5;28;01mTrue\u001b[39;00m\n",
      "File \u001b[0;32m~/.local/lib/python3.10/site-packages/ipyfilechooser/filechooser.py:42\u001b[0m, in \u001b[0;36mFileChooser.__init__\u001b[0;34m(self, path, filename, title, select_desc, change_desc, show_hidden, select_default, dir_icon, dir_icon_append, show_only_dirs, filter_pattern, sandbox_path, layout, **kwargs)\u001b[0m\n\u001b[1;32m     39\u001b[0m \u001b[38;5;28;01mif\u001b[39;00m \u001b[38;5;129;01mnot\u001b[39;00m is_valid_filename(filename):\n\u001b[1;32m     40\u001b[0m     \u001b[38;5;28;01mraise\u001b[39;00m InvalidFileNameError(filename)\n\u001b[0;32m---> 42\u001b[0m \u001b[38;5;28mself\u001b[39m\u001b[38;5;241m.\u001b[39m_default_path \u001b[38;5;241m=\u001b[39m \u001b[43mnormalize_path\u001b[49m\u001b[43m(\u001b[49m\u001b[43mpath\u001b[49m\u001b[43m)\u001b[49m\n\u001b[1;32m     43\u001b[0m \u001b[38;5;28mself\u001b[39m\u001b[38;5;241m.\u001b[39m_default_filename \u001b[38;5;241m=\u001b[39m filename\n\u001b[1;32m     44\u001b[0m \u001b[38;5;28mself\u001b[39m\u001b[38;5;241m.\u001b[39m_selected_path: Optional[\u001b[38;5;28mstr\u001b[39m] \u001b[38;5;241m=\u001b[39m \u001b[38;5;28;01mNone\u001b[39;00m\n",
      "File \u001b[0;32m~/.local/lib/python3.10/site-packages/ipyfilechooser/utils.py:137\u001b[0m, in \u001b[0;36mnormalize_path\u001b[0;34m(path)\u001b[0m\n\u001b[1;32m    134\u001b[0m normalized_path \u001b[38;5;241m=\u001b[39m os\u001b[38;5;241m.\u001b[39mpath\u001b[38;5;241m.\u001b[39mrealpath(path)\n\u001b[1;32m    136\u001b[0m \u001b[38;5;28;01mif\u001b[39;00m \u001b[38;5;129;01mnot\u001b[39;00m os\u001b[38;5;241m.\u001b[39mpath\u001b[38;5;241m.\u001b[39misdir(normalized_path):\n\u001b[0;32m--> 137\u001b[0m     \u001b[38;5;28;01mraise\u001b[39;00m InvalidPathError(path)\n\u001b[1;32m    139\u001b[0m \u001b[38;5;28;01mreturn\u001b[39;00m normalized_path\n",
      "\u001b[0;31mInvalidPathError\u001b[0m: /content does not exist"
     ]
    }
   ],
   "source": [
    "%run cira_classiftrain_jupyter.py"
   ]
  },
  {
   "cell_type": "code",
   "execution_count": null,
   "metadata": {},
   "outputs": [],
   "source": []
  }
 ],
 "metadata": {
  "accelerator": "GPU",
  "colab": {
   "include_colab_link": true,
   "provenance": []
  },
  "gpuClass": "standard",
  "kernelspec": {
   "display_name": "Python 3 (ipykernel)",
   "language": "python",
   "name": "python3"
  },
  "language_info": {
   "codemirror_mode": {
    "name": "ipython",
    "version": 3
   },
   "file_extension": ".py",
   "mimetype": "text/x-python",
   "name": "python",
   "nbconvert_exporter": "python",
   "pygments_lexer": "ipython3",
   "version": "3.10.12"
  }
 },
 "nbformat": 4,
 "nbformat_minor": 4
}
