{
  "cells": [
    {
      "cell_type": "markdown",
      "metadata": {
        "colab_type": "text",
        "id": "view-in-github"
      },
      "source": [
        "<a href=\"https://colab.research.google.com/github/CiRA-AMI/cira-colab-trainer/blob/main/CiRA_DeepTrain_Colab.ipynb\" target=\"_parent\"><img src=\"https://colab.research.google.com/assets/colab-badge.svg\" alt=\"Open In Colab\"/></a>"
      ]
    },
    {
      "cell_type": "code",
      "execution_count": null,
      "metadata": {
        "id": "ILdApS51Fgtp"
      },
      "outputs": [],
      "source": [
        "import subprocess\n",
        "ret = subprocess.call(['bash', '-c', 'wget -O cira_deeptrain_jupyter.py https://raw.githubusercontent.com/CiRA-AMI/cira-colab-trainer/main/cira_deeptrain_jupyter.py'])"
      ]
    },
    {
      "cell_type": "code",
      "execution_count": null,
      "metadata": {
        "id": "4IW1RMbPVKoi"
      },
      "outputs": [],
      "source": [
        "%run cira_deeptrain_colab.py"
      ]
    }
  ],
  "metadata": {
    "accelerator": "GPU",
    "colab": {
      "include_colab_link": true,
      "provenance": []
    },
    "gpuClass": "standard",
    "kernelspec": {
      "display_name": "Python 3",
      "name": "python3"
    },
    "language_info": {
      "name": "python"
    }
  },
  "nbformat": 4,
  "nbformat_minor": 0
}
